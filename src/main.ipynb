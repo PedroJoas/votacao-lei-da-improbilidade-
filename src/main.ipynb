{
 "cells": [
  {
   "cell_type": "markdown",
   "metadata": {
    "colab_type": "text",
    "id": "view-in-github"
   },
   "source": [
    "<a href=\"https://colab.research.google.com/github/PedroJoas/ProjetoDS_votacao/blob/main/Vota%C3%A7%C3%A3o.ipynb\" target=\"_parent\"><img src=\"https://colab.research.google.com/assets/colab-badge.svg\" alt=\"Open In Colab\"/></a>"
   ]
  },
  {
   "cell_type": "markdown",
   "metadata": {},
   "source": [
    "## Importando as bibliotecas"
   ]
  },
  {
   "cell_type": "code",
   "execution_count": 17,
   "metadata": {
    "id": "afQiyI3TGhPb"
   },
   "outputs": [],
   "source": [
    "import pandas as pd\n",
    "import matplotlib.pyplot as plt\n",
    "import seaborn as sns\n",
    "import utils\n",
    "sns.set_style(\"dark\")"
   ]
  },
  {
   "cell_type": "markdown",
   "metadata": {},
   "source": [
    "## Tratamento dos dados"
   ]
  },
  {
   "cell_type": "code",
   "execution_count": 6,
   "metadata": {},
   "outputs": [
    {
     "data": {
      "text/html": [
       "<div>\n",
       "<style scoped>\n",
       "    .dataframe tbody tr th:only-of-type {\n",
       "        vertical-align: middle;\n",
       "    }\n",
       "\n",
       "    .dataframe tbody tr th {\n",
       "        vertical-align: top;\n",
       "    }\n",
       "\n",
       "    .dataframe thead th {\n",
       "        text-align: right;\n",
       "    }\n",
       "</style>\n",
       "<table border=\"1\" class=\"dataframe\">\n",
       "  <thead>\n",
       "    <tr style=\"text-align: right;\">\n",
       "      <th></th>\n",
       "      <th>Partido</th>\n",
       "      <th>Campo ideológico</th>\n",
       "      <th>Posição</th>\n",
       "    </tr>\n",
       "  </thead>\n",
       "  <tbody>\n",
       "    <tr>\n",
       "      <th>0</th>\n",
       "      <td>AVANTE – AVANTE</td>\n",
       "      <td>Trabalhista</td>\n",
       "      <td>Centro esquerda</td>\n",
       "    </tr>\n",
       "    <tr>\n",
       "      <th>1</th>\n",
       "      <td>DC – DEMOCRATA CRISTÃO</td>\n",
       "      <td>Cristão</td>\n",
       "      <td>Direita</td>\n",
       "    </tr>\n",
       "    <tr>\n",
       "      <th>2</th>\n",
       "      <td>DEM – DEMOCRATAS</td>\n",
       "      <td>Conservador</td>\n",
       "      <td>Centro direita</td>\n",
       "    </tr>\n",
       "    <tr>\n",
       "      <th>3</th>\n",
       "      <td>MDB – MOVIMENTO DEMOCRÁTICO BRASILEIRO</td>\n",
       "      <td>Conservador</td>\n",
       "      <td>Centro direita</td>\n",
       "    </tr>\n",
       "    <tr>\n",
       "      <th>4</th>\n",
       "      <td>NOVO – PARTIDO NOVO</td>\n",
       "      <td>Liberal</td>\n",
       "      <td>Direita</td>\n",
       "    </tr>\n",
       "  </tbody>\n",
       "</table>\n",
       "</div>"
      ],
      "text/plain": [
       "                                  Partido Campo ideológico          Posição\n",
       "0                         AVANTE – AVANTE      Trabalhista  Centro esquerda\n",
       "1                  DC – DEMOCRATA CRISTÃO          Cristão          Direita\n",
       "2                        DEM – DEMOCRATAS      Conservador   Centro direita\n",
       "3  MDB – MOVIMENTO DEMOCRÁTICO BRASILEIRO      Conservador   Centro direita\n",
       "4                     NOVO – PARTIDO NOVO          Liberal          Direita"
      ]
     },
     "execution_count": 6,
     "metadata": {},
     "output_type": "execute_result"
    }
   ],
   "source": [
    "df_partidos = pd.read_csv('../Dados/df_partidos.csv')\n",
    "df_partidos.head()"
   ]
  },
  {
   "cell_type": "markdown",
   "metadata": {},
   "source": [
    "Como podemos ver, está \"DC - DEMOCRATA CRISTÃO\", porém queremos somente a primeira parte, ou seja, a sigla do partido.\n",
    "\n",
    "Utilizando uma função do pacote utils chamada get_sigla_partido que tem como parâmetro partido e separa-la por traço usando o método <b>.split</b>, ele vai retornar uma lista ['DC', 'DEMOCRATA CRISTÃO'], como eu queremos somente a sigla, pegamos o primeiro valor, ou seja, o item de index 0, e usamos o método strip para remover os espaços em branco no inicio e no fim da string, com isso podemos armazenar na variável sigla e retorna-la"
   ]
  },
  {
   "cell_type": "markdown",
   "metadata": {},
   "source": [
    "Utilizando o método <b>.apply</b> para aplicar a função por toda a coluna <i>Partidos</i> "
   ]
  },
  {
   "cell_type": "code",
   "execution_count": 18,
   "metadata": {},
   "outputs": [],
   "source": [
    "df_partidos['Partido'] = df_partidos['Partido'].apply(utils.get_sigla_partido)"
   ]
  },
  {
   "cell_type": "code",
   "execution_count": 19,
   "metadata": {},
   "outputs": [
    {
     "data": {
      "text/html": [
       "<div>\n",
       "<style scoped>\n",
       "    .dataframe tbody tr th:only-of-type {\n",
       "        vertical-align: middle;\n",
       "    }\n",
       "\n",
       "    .dataframe tbody tr th {\n",
       "        vertical-align: top;\n",
       "    }\n",
       "\n",
       "    .dataframe thead th {\n",
       "        text-align: right;\n",
       "    }\n",
       "</style>\n",
       "<table border=\"1\" class=\"dataframe\">\n",
       "  <thead>\n",
       "    <tr style=\"text-align: right;\">\n",
       "      <th></th>\n",
       "      <th>Partido</th>\n",
       "      <th>Campo ideológico</th>\n",
       "      <th>Posição</th>\n",
       "    </tr>\n",
       "  </thead>\n",
       "  <tbody>\n",
       "    <tr>\n",
       "      <th>0</th>\n",
       "      <td>AVANTE</td>\n",
       "      <td>Trabalhista</td>\n",
       "      <td>Centro esquerda</td>\n",
       "    </tr>\n",
       "    <tr>\n",
       "      <th>1</th>\n",
       "      <td>DC</td>\n",
       "      <td>Cristão</td>\n",
       "      <td>Direita</td>\n",
       "    </tr>\n",
       "    <tr>\n",
       "      <th>2</th>\n",
       "      <td>DEM</td>\n",
       "      <td>Conservador</td>\n",
       "      <td>Centro direita</td>\n",
       "    </tr>\n",
       "    <tr>\n",
       "      <th>3</th>\n",
       "      <td>MDB</td>\n",
       "      <td>Conservador</td>\n",
       "      <td>Centro direita</td>\n",
       "    </tr>\n",
       "    <tr>\n",
       "      <th>4</th>\n",
       "      <td>NOVO</td>\n",
       "      <td>Liberal</td>\n",
       "      <td>Direita</td>\n",
       "    </tr>\n",
       "  </tbody>\n",
       "</table>\n",
       "</div>"
      ],
      "text/plain": [
       "  Partido Campo ideológico          Posição\n",
       "0  AVANTE      Trabalhista  Centro esquerda\n",
       "1      DC          Cristão          Direita\n",
       "2     DEM      Conservador   Centro direita\n",
       "3     MDB      Conservador   Centro direita\n",
       "4    NOVO          Liberal          Direita"
      ]
     },
     "execution_count": 19,
     "metadata": {},
     "output_type": "execute_result"
    }
   ],
   "source": [
    "df_partidos.head()"
   ]
  },
  {
   "cell_type": "markdown",
   "metadata": {
    "id": "RX1e7gnLhaeT"
   },
   "source": [
    "## Analise e visualização"
   ]
  },
  {
   "cell_type": "markdown",
   "metadata": {
    "id": "PgVo5PVqb0oG"
   },
   "source": [
    "Agora vamos ler um arquivo excel da votação"
   ]
  },
  {
   "cell_type": "code",
   "execution_count": 21,
   "metadata": {
    "colab": {
     "base_uri": "https://localhost:8080/",
     "height": 204
    },
    "id": "HEkpfxFHhciu",
    "outputId": "c7ee151c-7f81-4c65-a682-5497fd546182"
   },
   "outputs": [
    {
     "data": {
      "text/html": [
       "<div>\n",
       "<style scoped>\n",
       "    .dataframe tbody tr th:only-of-type {\n",
       "        vertical-align: middle;\n",
       "    }\n",
       "\n",
       "    .dataframe tbody tr th {\n",
       "        vertical-align: top;\n",
       "    }\n",
       "\n",
       "    .dataframe thead th {\n",
       "        text-align: right;\n",
       "    }\n",
       "</style>\n",
       "<table border=\"1\" class=\"dataframe\">\n",
       "  <thead>\n",
       "    <tr style=\"text-align: right;\">\n",
       "      <th></th>\n",
       "      <th>Deputado</th>\n",
       "      <th>Partido</th>\n",
       "      <th>UF</th>\n",
       "      <th>Voto</th>\n",
       "    </tr>\n",
       "  </thead>\n",
       "  <tbody>\n",
       "    <tr>\n",
       "      <th>0</th>\n",
       "      <td>Alan Rick</td>\n",
       "      <td>DEM</td>\n",
       "      <td>AC</td>\n",
       "      <td>Sim</td>\n",
       "    </tr>\n",
       "    <tr>\n",
       "      <th>1</th>\n",
       "      <td>Dra.Vanda Milani</td>\n",
       "      <td>SD</td>\n",
       "      <td>AC</td>\n",
       "      <td>Sim</td>\n",
       "    </tr>\n",
       "    <tr>\n",
       "      <th>2</th>\n",
       "      <td>Flaviano Melo</td>\n",
       "      <td>MDB</td>\n",
       "      <td>AC</td>\n",
       "      <td>Sim</td>\n",
       "    </tr>\n",
       "    <tr>\n",
       "      <th>3</th>\n",
       "      <td>Jessica Sales</td>\n",
       "      <td>MDB</td>\n",
       "      <td>AC</td>\n",
       "      <td>Sim</td>\n",
       "    </tr>\n",
       "    <tr>\n",
       "      <th>4</th>\n",
       "      <td>Jesus Sérgio</td>\n",
       "      <td>PDT</td>\n",
       "      <td>AC</td>\n",
       "      <td>Sim</td>\n",
       "    </tr>\n",
       "  </tbody>\n",
       "</table>\n",
       "</div>"
      ],
      "text/plain": [
       "           Deputado Partido  UF Voto\n",
       "0         Alan Rick     DEM  AC  Sim\n",
       "1  Dra.Vanda Milani      SD  AC  Sim\n",
       "2     Flaviano Melo     MDB  AC  Sim\n",
       "3     Jessica Sales     MDB  AC  Sim\n",
       "4      Jesus Sérgio     PDT  AC  Sim"
      ]
     },
     "execution_count": 21,
     "metadata": {},
     "output_type": "execute_result"
    }
   ],
   "source": [
    "df_votacao = pd.read_excel('../Dados/votacao.xlsx')\n",
    "df_votacao.head()"
   ]
  },
  {
   "cell_type": "markdown",
   "metadata": {
    "id": "B6BRdEETcAIu"
   },
   "source": [
    "Vamos juntar os dois dataframes feitos usando o método `.merge` do dataframe.\n",
    "\n",
    "passamos o dataframe que vamos juntar, que no caso é o df_partidos e o parâmetro **on** é nome da coluna que tem nos dois dataframes, vai servir para relacionar um com outro.\n",
    "\n",
    "caso tenha dúvida [Acesse a documentaçao]('https://pandas.pydata.org/pandas-docs/stable/reference/api/pandas.DataFrame.merge.html)"
   ]
  },
  {
   "cell_type": "code",
   "execution_count": 22,
   "metadata": {
    "id": "vl6sMVHbktEk"
   },
   "outputs": [],
   "source": [
    "df_completo = df_votacao.merge(df_partidos, on='Partido')"
   ]
  },
  {
   "cell_type": "code",
   "execution_count": 23,
   "metadata": {
    "colab": {
     "base_uri": "https://localhost:8080/",
     "height": 204
    },
    "id": "DhihX3AJk5DS",
    "outputId": "1f500252-e424-4ec5-df3c-d8b85c2ebe01"
   },
   "outputs": [
    {
     "data": {
      "text/html": [
       "<div>\n",
       "<style scoped>\n",
       "    .dataframe tbody tr th:only-of-type {\n",
       "        vertical-align: middle;\n",
       "    }\n",
       "\n",
       "    .dataframe tbody tr th {\n",
       "        vertical-align: top;\n",
       "    }\n",
       "\n",
       "    .dataframe thead th {\n",
       "        text-align: right;\n",
       "    }\n",
       "</style>\n",
       "<table border=\"1\" class=\"dataframe\">\n",
       "  <thead>\n",
       "    <tr style=\"text-align: right;\">\n",
       "      <th></th>\n",
       "      <th>Deputado</th>\n",
       "      <th>Partido</th>\n",
       "      <th>UF</th>\n",
       "      <th>Voto</th>\n",
       "      <th>Campo ideológico</th>\n",
       "      <th>Posição</th>\n",
       "    </tr>\n",
       "  </thead>\n",
       "  <tbody>\n",
       "    <tr>\n",
       "      <th>0</th>\n",
       "      <td>Alan Rick</td>\n",
       "      <td>DEM</td>\n",
       "      <td>AC</td>\n",
       "      <td>Sim</td>\n",
       "      <td>Conservador</td>\n",
       "      <td>Centro direita</td>\n",
       "    </tr>\n",
       "    <tr>\n",
       "      <th>1</th>\n",
       "      <td>Arthur O. Maia</td>\n",
       "      <td>DEM</td>\n",
       "      <td>BA</td>\n",
       "      <td>Não</td>\n",
       "      <td>Conservador</td>\n",
       "      <td>Centro direita</td>\n",
       "    </tr>\n",
       "    <tr>\n",
       "      <th>2</th>\n",
       "      <td>Elmar Nascimento</td>\n",
       "      <td>DEM</td>\n",
       "      <td>BA</td>\n",
       "      <td>Sim</td>\n",
       "      <td>Conservador</td>\n",
       "      <td>Centro direita</td>\n",
       "    </tr>\n",
       "    <tr>\n",
       "      <th>3</th>\n",
       "      <td>Igor Kannário</td>\n",
       "      <td>DEM</td>\n",
       "      <td>BA</td>\n",
       "      <td>Sim</td>\n",
       "      <td>Conservador</td>\n",
       "      <td>Centro direita</td>\n",
       "    </tr>\n",
       "    <tr>\n",
       "      <th>4</th>\n",
       "      <td>Leur Lomanto Jr</td>\n",
       "      <td>DEM</td>\n",
       "      <td>BA</td>\n",
       "      <td>Não</td>\n",
       "      <td>Conservador</td>\n",
       "      <td>Centro direita</td>\n",
       "    </tr>\n",
       "  </tbody>\n",
       "</table>\n",
       "</div>"
      ],
      "text/plain": [
       "           Deputado Partido  UF Voto Campo ideológico         Posição\n",
       "0         Alan Rick     DEM  AC  Sim      Conservador  Centro direita\n",
       "1    Arthur O. Maia     DEM  BA  Não      Conservador  Centro direita\n",
       "2  Elmar Nascimento     DEM  BA  Sim      Conservador  Centro direita\n",
       "3     Igor Kannário     DEM  BA  Sim      Conservador  Centro direita\n",
       "4   Leur Lomanto Jr     DEM  BA  Não      Conservador  Centro direita"
      ]
     },
     "execution_count": 23,
     "metadata": {},
     "output_type": "execute_result"
    }
   ],
   "source": [
    "df_completo.head()"
   ]
  },
  {
   "cell_type": "markdown",
   "metadata": {
    "id": "1SC9M0-MeUA5"
   },
   "source": [
    "Agora vamos fazer um função para plotar um countplot.\n",
    "\n",
    "Pedimos a coluna, um titulo e a label do eixo X.\n",
    "\n",
    "Para isso, usaremos o método ```.countplot``` da biblioteca seaborn. Passamos também a estilização do título e as labels dos eixos."
   ]
  },
  {
   "cell_type": "code",
   "execution_count": 24,
   "metadata": {
    "id": "WeZHw9XbCMYd"
   },
   "outputs": [],
   "source": [
    "def count_plot(column,title,xlabel):\n",
    "  plt.figure(figsize=(12,8))\n",
    "  sns.countplot(x=column, data=df_completo, palette='flare', hue='Voto')\n",
    "\n",
    "  font1 = {'family':'serif','color':'black','size':20}\n",
    "  font2 = {'family':'serif','color':'purple','size':15}\n",
    "\n",
    "  plt.title(title, fontdict=font1)\n",
    "  plt.ylabel('Quantidade', fontdict=font2)\n",
    "  plt.xlabel(xlabel, fontdict=font2)"
   ]
  },
  {
   "cell_type": "markdown",
   "metadata": {
    "id": "vn0Svw_gegZl"
   },
   "source": [
    "Plotamos o gráfico passando o que foi pedido, para isso usaremos o método\n",
    "\n",
    "\n",
    "\n",
    "\n",
    "Analisando esse gráfico, podemos ver que a maioria dos votos \"sim\", foram os partidos de centro direita"
   ]
  },
  {
   "cell_type": "code",
   "execution_count": null,
   "metadata": {
    "colab": {
     "base_uri": "https://localhost:8080/",
     "height": 525
    },
    "id": "mbuZb31-tHju",
    "outputId": "85da5f8d-65db-4caf-d6f9-c64966dcbcfd"
   },
   "outputs": [
    {
     "data": {
      "image/png": "[encoded data removed]",
      "text/plain": [
       "<Figure size 864x576 with 1 Axes>"
      ]
     },
     "metadata": {
      "tags": []
     },
     "output_type": "display_data"
    }
   ],
   "source": [
    "count_plot(column='Posição',title='Divisão de votos por Posição ideológica',xlabel='Posição ideológica')"
   ]
  },
  {
   "cell_type": "markdown",
   "metadata": {
    "id": "5V831xaTfGaV"
   },
   "source": [
    "Agora analisando por campo ideológico, os partidos conservadores foram os que mais foram a favor"
   ]
  },
  {
   "cell_type": "code",
   "execution_count": null,
   "metadata": {
    "colab": {
     "base_uri": "https://localhost:8080/",
     "height": 525
    },
    "id": "N-VDYmgM-CYl",
    "outputId": "c8ff59a8-b839-4676-f25d-d53e421ab517"
   },
   "outputs": [
    {
     "data": {
      "image/png": "[encoded data removed]",
      "text/plain": [
       "<Figure size 864x576 with 1 Axes>"
      ]
     },
     "metadata": {
      "tags": []
     },
     "output_type": "display_data"
    }
   ],
   "source": [
    "count_plot(column='Campo ideológico',title='Divisão de votos por Campo ideológico',xlabel='Campo ideológico')"
   ]
  },
  {
   "cell_type": "markdown",
   "metadata": {
    "id": "goAm9-63uKXp"
   },
   "source": [
    "Agora vamos filtrar todo o dataframe onde a coluna **Voto** é igual a \"Sim\".\n",
    "\n",
    "Vamos usar isso para pegar uma proporção de votos de cada estado"
   ]
  },
  {
   "cell_type": "code",
   "execution_count": 25,
   "metadata": {
    "colab": {
     "base_uri": "https://localhost:8080/",
     "height": 204
    },
    "id": "0nhoCwvm8jAg",
    "outputId": "11926f62-0a0e-457d-b52a-0a3aba5605bb"
   },
   "outputs": [
    {
     "data": {
      "text/html": [
       "<div>\n",
       "<style scoped>\n",
       "    .dataframe tbody tr th:only-of-type {\n",
       "        vertical-align: middle;\n",
       "    }\n",
       "\n",
       "    .dataframe tbody tr th {\n",
       "        vertical-align: top;\n",
       "    }\n",
       "\n",
       "    .dataframe thead th {\n",
       "        text-align: right;\n",
       "    }\n",
       "</style>\n",
       "<table border=\"1\" class=\"dataframe\">\n",
       "  <thead>\n",
       "    <tr style=\"text-align: right;\">\n",
       "      <th></th>\n",
       "      <th>Deputado</th>\n",
       "      <th>Partido</th>\n",
       "      <th>UF</th>\n",
       "      <th>Voto</th>\n",
       "      <th>Campo ideológico</th>\n",
       "      <th>Posição</th>\n",
       "    </tr>\n",
       "  </thead>\n",
       "  <tbody>\n",
       "    <tr>\n",
       "      <th>0</th>\n",
       "      <td>Alan Rick</td>\n",
       "      <td>DEM</td>\n",
       "      <td>AC</td>\n",
       "      <td>Sim</td>\n",
       "      <td>Conservador</td>\n",
       "      <td>Centro direita</td>\n",
       "    </tr>\n",
       "    <tr>\n",
       "      <th>2</th>\n",
       "      <td>Elmar Nascimento</td>\n",
       "      <td>DEM</td>\n",
       "      <td>BA</td>\n",
       "      <td>Sim</td>\n",
       "      <td>Conservador</td>\n",
       "      <td>Centro direita</td>\n",
       "    </tr>\n",
       "    <tr>\n",
       "      <th>3</th>\n",
       "      <td>Igor Kannário</td>\n",
       "      <td>DEM</td>\n",
       "      <td>BA</td>\n",
       "      <td>Sim</td>\n",
       "      <td>Conservador</td>\n",
       "      <td>Centro direita</td>\n",
       "    </tr>\n",
       "    <tr>\n",
       "      <th>5</th>\n",
       "      <td>Paulo Azi</td>\n",
       "      <td>DEM</td>\n",
       "      <td>BA</td>\n",
       "      <td>Sim</td>\n",
       "      <td>Conservador</td>\n",
       "      <td>Centro direita</td>\n",
       "    </tr>\n",
       "    <tr>\n",
       "      <th>6</th>\n",
       "      <td>Aníbal Gomes</td>\n",
       "      <td>DEM</td>\n",
       "      <td>CE</td>\n",
       "      <td>Sim</td>\n",
       "      <td>Conservador</td>\n",
       "      <td>Centro direita</td>\n",
       "    </tr>\n",
       "  </tbody>\n",
       "</table>\n",
       "</div>"
      ],
      "text/plain": [
       "           Deputado Partido  UF Voto Campo ideológico         Posição\n",
       "0         Alan Rick     DEM  AC  Sim      Conservador  Centro direita\n",
       "2  Elmar Nascimento     DEM  BA  Sim      Conservador  Centro direita\n",
       "3     Igor Kannário     DEM  BA  Sim      Conservador  Centro direita\n",
       "5         Paulo Azi     DEM  BA  Sim      Conservador  Centro direita\n",
       "6      Aníbal Gomes     DEM  CE  Sim      Conservador  Centro direita"
      ]
     },
     "execution_count": 25,
     "metadata": {},
     "output_type": "execute_result"
    }
   ],
   "source": [
    "votos_sim = df_completo[df_completo['Voto'] == 'Sim']\n",
    "votos_sim.head()"
   ]
  },
  {
   "cell_type": "markdown",
   "metadata": {
    "id": "g06kifJMucjR"
   },
   "source": [
    "Vamos contar quantas vezes aparece cada estado no dataframe filtrado de votos sim.\n",
    "\n",
    "Também vamos contar quantas vezes aparece cada estado no dataframe completo.\n",
    "\n",
    "Quando usamos o método ```.value_counts```, ele retorna um Pandas Series e seu index são valores que são contados, aqui por exemplo, serão os estados. \n",
    "\n",
    "Para poder comparar as duas Series certinho, vamos colocar o index em ordem alfabética usando o método ```.sort_index``` "
   ]
  },
  {
   "cell_type": "code",
   "execution_count": 26,
   "metadata": {
    "id": "4P0E-7rP81g8"
   },
   "outputs": [],
   "source": [
    "quant_sim = votos_sim['UF'].value_counts().sort_index()\n",
    "quant_total = df_completo['UF'].value_counts().sort_index()"
   ]
  },
  {
   "cell_type": "markdown",
   "metadata": {
    "id": "d40VvwTvwkG1"
   },
   "source": [
    "Agora vamos dividir a quantidade de votos sim por a quantidade total de votos por estado.\n",
    "\n",
    "Multiplicamos por 100 para ficar em valor percentual"
   ]
  },
  {
   "cell_type": "code",
   "execution_count": 27,
   "metadata": {
    "id": "AxfGmFVg9q66"
   },
   "outputs": [],
   "source": [
    "prop_votos = (quant_sim/quant_total)*100"
   ]
  },
  {
   "cell_type": "markdown",
   "metadata": {
    "id": "6cOBZp95w83w"
   },
   "source": [
    "Criamos um dataframe com cada estado e sua proporção"
   ]
  },
  {
   "cell_type": "code",
   "execution_count": 28,
   "metadata": {
    "colab": {
     "base_uri": "https://localhost:8080/",
     "height": 204
    },
    "id": "yLW8CKMsHmxp",
    "outputId": "368a73d9-8227-4b43-dbb4-47333247829a"
   },
   "outputs": [
    {
     "data": {
      "text/html": [
       "<div>\n",
       "<style scoped>\n",
       "    .dataframe tbody tr th:only-of-type {\n",
       "        vertical-align: middle;\n",
       "    }\n",
       "\n",
       "    .dataframe tbody tr th {\n",
       "        vertical-align: top;\n",
       "    }\n",
       "\n",
       "    .dataframe thead th {\n",
       "        text-align: right;\n",
       "    }\n",
       "</style>\n",
       "<table border=\"1\" class=\"dataframe\">\n",
       "  <thead>\n",
       "    <tr style=\"text-align: right;\">\n",
       "      <th></th>\n",
       "      <th>UF</th>\n",
       "      <th>Proporcao</th>\n",
       "    </tr>\n",
       "  </thead>\n",
       "  <tbody>\n",
       "    <tr>\n",
       "      <th>0</th>\n",
       "      <td>AC</td>\n",
       "      <td>100.000000</td>\n",
       "    </tr>\n",
       "    <tr>\n",
       "      <th>1</th>\n",
       "      <td>AL</td>\n",
       "      <td>100.000000</td>\n",
       "    </tr>\n",
       "    <tr>\n",
       "      <th>2</th>\n",
       "      <td>AM</td>\n",
       "      <td>87.500000</td>\n",
       "    </tr>\n",
       "    <tr>\n",
       "      <th>3</th>\n",
       "      <td>AP</td>\n",
       "      <td>87.500000</td>\n",
       "    </tr>\n",
       "    <tr>\n",
       "      <th>4</th>\n",
       "      <td>BA</td>\n",
       "      <td>76.315789</td>\n",
       "    </tr>\n",
       "  </tbody>\n",
       "</table>\n",
       "</div>"
      ],
      "text/plain": [
       "   UF   Proporcao\n",
       "0  AC  100.000000\n",
       "1  AL  100.000000\n",
       "2  AM   87.500000\n",
       "3  AP   87.500000\n",
       "4  BA   76.315789"
      ]
     },
     "execution_count": 28,
     "metadata": {},
     "output_type": "execute_result"
    }
   ],
   "source": [
    "df_prop = pd.DataFrame()\n",
    "\n",
    "df_prop['UF'] = sorted(df_completo['UF'].unique())\n",
    "df_prop['Proporcao'] = prop_votos.values\n",
    "\n",
    "df_prop.head()"
   ]
  },
  {
   "cell_type": "markdown",
   "metadata": {
    "id": "HsD62e3K2hOk"
   },
   "source": [
    "Por fim salvamos todos os arquivos feitos"
   ]
  },
  {
   "cell_type": "code",
   "execution_count": 30,
   "metadata": {
    "id": "it_few1GN6Z0"
   },
   "outputs": [],
   "source": [
    "df_completo.to_csv('../Dados/df_completo.csv')\n",
    "votos_sim.to_csv('../Dados/df_votos_sim.csv')\n",
    "df_prop.to_csv('../Dados/df_prop.csv')"
   ]
  },
  {
   "cell_type": "code",
   "execution_count": null,
   "metadata": {},
   "outputs": [],
   "source": []
  }
 ],
 "metadata": {
  "colab": {
   "authorship_tag": "ABX9TyP68xY5mZzMMeEJMfGMKKaX",
   "collapsed_sections": [],
   "include_colab_link": true,
   "name": "Votação",
   "provenance": []
  },
  "kernelspec": {
   "display_name": "Python 3 (ipykernel)",
   "language": "python",
   "name": "python3"
  },
  "language_info": {
   "codemirror_mode": {
    "name": "ipython",
    "version": 3
   },
   "file_extension": ".py",
   "mimetype": "text/x-python",
   "name": "python",
   "nbconvert_exporter": "python",
   "pygments_lexer": "ipython3",
   "version": "3.9.12"
  }
 },
 "nbformat": 4,
 "nbformat_minor": 1
}
